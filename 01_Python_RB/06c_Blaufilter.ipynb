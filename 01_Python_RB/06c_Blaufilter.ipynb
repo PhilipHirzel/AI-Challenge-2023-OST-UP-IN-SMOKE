{
  "cells": [
    {
      "cell_type": "markdown",
      "id": "11afed6e-38ec-4dde-9b76-aa5343ac1d7e",
      "metadata": {
        "id": "11afed6e-38ec-4dde-9b76-aa5343ac1d7e",
        "pycharm": {
          "name": "#%% md\n"
        }
      },
      "source": [
        "# Preprocessing mit Blaufilter\n",
        "\n",
        "Als Preprocessing können wir eine Blaufilter einbauen. Die Idee dahinter ist, dass wir das Model zwingen, sich auf die blaue Linie zu konzentrieren, in dem wir ihm die anderen Sachen im Kamerabild gar nicht als Input geben. Ein bisschen so wie [Scheuklappen](https://de.wikipedia.org/wiki/Scheuklappen) bei einem Pferd.\n",
        "\n",
        "Dieses Notebook dient dazu, die optimalen Einstellungen für den Blaufilter sowie weiteren Optimierungen zu finden, welche dann im `06d_Fahrmodell_Training_mit_Blaufilter.ipynb` eingesetzt werden können.\n",
        "**Wichtig:** Denke daran, die gleichen Einstellungen auch im `override_driving.py` zu machen!"
      ]
    },
    {
      "cell_type": "code",
      "execution_count": 71,
      "id": "08ae75c1-c131-4f74-8976-bdf9846702bd",
      "metadata": {
        "id": "08ae75c1-c131-4f74-8976-bdf9846702bd",
        "pycharm": {
          "name": "#%%\n"
        }
      },
      "outputs": [],
      "source": [
        "# Als erstes laden wir alle benötigenden Libraries\n",
        "\n",
        "from fastai.data.all import *\n",
        "from fastai.vision.all import *\n",
        "\n",
        "import json # Für das auslesen der Fahrdaten\n",
        "import matplotlib.pyplot as plt # Für das Erstellen von Grafiken\n",
        "import cv2 # Für das Filter von Bildern\n",
        "\n",
        "import ipywidgets as widgets\n",
        "from ipywidgets import interact, interactive, fixed\n",
        "from IPython.display import display, clear_output\n",
        "\n",
        "import colorsys"
      ]
    },
    {
      "cell_type": "markdown",
      "id": "d9688709",
      "metadata": {
        "id": "d9688709"
      },
      "source": [
        "## Bilderpfade laden"
      ]
    },
    {
      "cell_type": "code",
      "execution_count": 21,
      "id": "kPtjlKzeceyq",
      "metadata": {
        "colab": {
          "base_uri": "https://localhost:8080/"
        },
        "id": "kPtjlKzeceyq",
        "outputId": "0f14b5d7-4865-4d16-99b3-c30654ba1e33"
      },
      "outputs": [
        {
          "output_type": "stream",
          "name": "stdout",
          "text": [
            "Drive already mounted at /content/drive; to attempt to forcibly remount, call drive.mount(\"/content/drive\", force_remount=True).\n"
          ]
        }
      ],
      "source": [
        "# mit Google Drive verbinden\n",
        "from google.colab import drive\n",
        "drive.mount('/content/drive')"
      ]
    },
    {
      "cell_type": "code",
      "execution_count": 22,
      "id": "6e089dae",
      "metadata": {
        "colab": {
          "base_uri": "https://localhost:8080/"
        },
        "id": "6e089dae",
        "jupyter": {
          "outputs_hidden": false
        },
        "outputId": "9a6770b8-14c7-4e3e-e818-43e8eaaa894a",
        "pycharm": {
          "name": "#%%\n"
        }
      },
      "outputs": [
        {
          "output_type": "stream",
          "name": "stdout",
          "text": [
            "Alles gut👍 der Pfad /content/drive/MyDrive/AI-Challenge/daten/fahrmodell/tobias wurde gefunden\n"
          ]
        }
      ],
      "source": [
        "image_directory_path = Path('/content/drive/MyDrive/AI-Challenge/daten/fahrmodell/tobias')\n",
        "\n",
        "# Sollte der Pfad nicht existieren, wird hier eine Fehlermeldung ausgegeben\n",
        "if not image_directory_path.exists():\n",
        "    raise Exception(f\"Fehler🛑 Der Pfad {image_directory_path} existiert nicht\")\n",
        "else:\n",
        "    print(f\"Alles gut👍 der Pfad {image_directory_path} wurde gefunden\")"
      ]
    },
    {
      "cell_type": "code",
      "execution_count": 96,
      "id": "1c6b8a57",
      "metadata": {
        "colab": {
          "base_uri": "https://localhost:8080/"
        },
        "id": "1c6b8a57",
        "jupyter": {
          "outputs_hidden": false
        },
        "outputId": "5ae6683f-5dcc-4221-ca26-84158368e8a7",
        "pycharm": {
          "name": "#%%\n"
        }
      },
      "outputs": [
        {
          "output_type": "stream",
          "name": "stdout",
          "text": [
            "Es wurden 3927 Bilder gefunden\n",
            "/content/drive/MyDrive/AI-Challenge/daten/fahrmodell/tobias/2023-10-24T14_34_27.036770.png\n"
          ]
        }
      ],
      "source": [
        "# alle Bildpfade laden\n",
        "image_paths = get_image_files(image_directory_path)\n",
        "print(f\"Es wurden {len(image_paths)} Bilder gefunden\")\n",
        "\n",
        "# der erste Pfad auswählen und ausgeben (wenn du einen anderen willst, ändere den Index)\n",
        "some_image_path = image_paths[1411]\n",
        "print(some_image_path)\n"
      ]
    },
    {
      "cell_type": "code",
      "execution_count": 94,
      "id": "5c3114b9",
      "metadata": {
        "id": "5c3114b9"
      },
      "outputs": [],
      "source": [
        "# Hilfsfunktionen und Variablen\n",
        "\n",
        "def show_image(image_array):\n",
        "    plt.imshow(image_array)\n",
        "    # plt.show()\n",
        "    # plt.grid(False)\n",
        "\n",
        "def rgb2hex(r,g,b):\n",
        "    return f\"#{r:02X}{g:02X}{b:02X}\"\n",
        "\n",
        "def hex2rgb(hex_color):\n",
        "    hex_color = hex_color.lstrip(\"#\")\n",
        "    r = int(hex_color[0:2], 16)\n",
        "    g = int(hex_color[2:4], 16)\n",
        "    b = int(hex_color[4:6], 16)\n",
        "    return [r, g, b]\n",
        "\n",
        "color_filtered = None\n",
        "eroded = None\n",
        "cropped = None"
      ]
    },
    {
      "cell_type": "code",
      "execution_count": 95,
      "id": "8dfefed3",
      "metadata": {
        "colab": {
          "base_uri": "https://localhost:8080/",
          "height": 434
        },
        "id": "8dfefed3",
        "outputId": "e68ad739-63d8-4626-ca16-8615538b8d03"
      },
      "outputs": [
        {
          "output_type": "display_data",
          "data": {
            "text/plain": [
              "<Figure size 640x480 with 1 Axes>"
            ],
            "image/png": "[encoded data removed]"
          },
          "metadata": {}
        }
      ],
      "source": [
        "# Bild als array laden und Wertebereich sicherstellen (nötig für override_driving.py)\n",
        "image_array = np.array(img)\n",
        "if not image_array.dtype == np.uint8:\n",
        "    image_array *= 255\n",
        "\n",
        "\n",
        "# Bild anzeigen\n",
        "show_image(image_array)"
      ]
    },
    {
      "cell_type": "markdown",
      "id": "324c2c0d",
      "metadata": {
        "id": "324c2c0d"
      },
      "source": [
        "## Bild filter\n",
        "\n",
        "Wir schauen uns nun der Reihe nach verschieden Filter an.\n",
        "\n",
        "1. Farbfilter\n",
        "2. Erosions-Filter (kleine Pixelbereiche entfernen)\n",
        "3. Bildbereiche löschen\n",
        "\n",
        "Verwende die Reglen, um optimale Werte für die Filter zu finden"
      ]
    },
    {
      "cell_type": "markdown",
      "id": "d7061df6",
      "metadata": {
        "id": "d7061df6"
      },
      "source": [
        "### Farbfilter\n",
        "\n",
        "Der Farbfilter verwendet eine untere und obere Grenze als Parameter.\n",
        "\n",
        "Mehr Infos: https://docs.opencv.org/3.4/da/d97/tutorial_threshold_inRange.html"
      ]
    },
    {
      "cell_type": "code",
      "source": [
        "# Color Filter\n",
        "def filter_callback(_):\n",
        "  global color_filtered\n",
        "  lower = np.array(hex2rgb(w_lower.value))\n",
        "  upper = np.array(hex2rgb(w_upper.value))\n",
        "  color_filtered = cv2.inRange(image_array, lower, upper)\n",
        "  clear_output(wait=True)\n",
        "  display(w_lower)\n",
        "  display(w_upper)\n",
        "  show_image(color_filtered)\n",
        "\n",
        "# Farben auswählen\n",
        "w_lower = widgets.ColorPicker(\n",
        "    concise=False,\n",
        "    description='Lower',\n",
        "    value=rgb2hex(0, 75, 115),\n",
        "    disabled=False\n",
        ")\n",
        "\n",
        "w_upper = widgets.ColorPicker(\n",
        "    concise=False,\n",
        "    description='Upper',\n",
        "    value=rgb2hex(115, 205, 255),\n",
        "    disabled=False\n",
        ")\n",
        "\n",
        "w_lower.observe(filter_callback)\n",
        "w_upper.observe(filter_callback)\n",
        "\n",
        "filter_callback(_)"
      ],
      "metadata": {
        "colab": {
          "base_uri": "https://localhost:8080/",
          "height": 496,
          "referenced_widgets": [
            "91071f85dcf14a9d966c5aff9f430c4b",
            "b8dc924ee1b14a6890d8feb261b45c6d",
            "891e72218d5741eeb524a365f3f9d02a",
            "d0d4117255eb4c829c4bfd5eb61dcf89",
            "a780e92c485f49fea825cebc777a527e",
            "aaaec2563cd44df3b0f566a8128c2950"
          ]
        },
        "id": "kpSpUH3zf8AZ",
        "outputId": "ca01ea78-f16f-412a-cfe2-26517eef1200"
      },
      "id": "kpSpUH3zf8AZ",
      "execution_count": 91,
      "outputs": [
        {
          "output_type": "display_data",
          "data": {
            "text/plain": [
              "ColorPicker(value='#004B73', description='Lower')"
            ],
            "application/vnd.jupyter.widget-view+json": {
              "version_major": 2,
              "version_minor": 0,
              "model_id": "91071f85dcf14a9d966c5aff9f430c4b"
            }
          },
          "metadata": {}
        },
        {
          "output_type": "display_data",
          "data": {
            "text/plain": [
              "ColorPicker(value='#73CDFF', description='Upper')"
            ],
            "application/vnd.jupyter.widget-view+json": {
              "version_major": 2,
              "version_minor": 0,
              "model_id": "d0d4117255eb4c829c4bfd5eb61dcf89"
            }
          },
          "metadata": {}
        },
        {
          "output_type": "display_data",
          "data": {
            "text/plain": [
              "<Figure size 640x480 with 1 Axes>"
            ],
            "image/png": "[encoded data removed]"
          },
          "metadata": {}
        }
      ]
    },
    {
      "cell_type": "markdown",
      "source": [
        "## Pixel entfernen\n",
        "\n",
        "Wie wir sehen, hat es ein paar verstreute Pixel, diese können wir \"weg erodieren\", sodass nur grössere Zusammenhängende Bereiche im Bild vorhanden sind."
      ],
      "metadata": {
        "id": "oNdnqGDhc_MB"
      },
      "id": "oNdnqGDhc_MB"
    },
    {
      "cell_type": "code",
      "source": [
        "def erode_callback(_):\n",
        "  global eroded\n",
        "  kernel = np.ones((w_kernel.value, w_kernel.value), np.uint8) # <- Werte können angepasst werden, z.B. (4,4)\n",
        "  eroded = cv2.erode(color_filtered, kernel, iterations=1)\n",
        "  clear_output(wait=True)\n",
        "  display(w_kernel)\n",
        "  show_image(eroded)\n",
        "\n",
        "# Kernel-Grösse wählen\n",
        "w_kernel = widgets.IntSlider(\n",
        "    value=1,\n",
        "    min=1,\n",
        "    max=10,\n",
        "    step=1,\n",
        "    description='Kernel-Grösse:',\n",
        "    # disabled=False,\n",
        "    # continuous_update=False,\n",
        "    # orientation='horizontal',\n",
        "    # readout=True,\n",
        "    # readout_format='d'\n",
        ")\n",
        "\n",
        "\n",
        "w_kernel.observe(erode_callback)\n",
        "\n",
        "erode_callback(_)"
      ],
      "metadata": {
        "colab": {
          "base_uri": "https://localhost:8080/",
          "height": 466,
          "referenced_widgets": [
            "d0f38727dfe84d86b50fa09fb18ec84b",
            "2eb45088ee0a49568f254188270ddfec",
            "5023e722110b4b188b9be2abbb4d08d7"
          ]
        },
        "id": "2J3SpAzeojDy",
        "outputId": "564691a8-c60e-4be6-de64-12df0b8a9eca"
      },
      "id": "2J3SpAzeojDy",
      "execution_count": 92,
      "outputs": [
        {
          "output_type": "display_data",
          "data": {
            "text/plain": [
              "IntSlider(value=2, description='Kernel-Grösse:', max=10, min=1)"
            ],
            "application/vnd.jupyter.widget-view+json": {
              "version_major": 2,
              "version_minor": 0,
              "model_id": "d0f38727dfe84d86b50fa09fb18ec84b"
            }
          },
          "metadata": {}
        },
        {
          "output_type": "display_data",
          "data": {
            "text/plain": [
              "<Figure size 640x480 with 1 Axes>"
            ],
            "image/png": "[encoded data removed]"
          },
          "metadata": {}
        }
      ]
    },
    {
      "cell_type": "markdown",
      "source": [
        "## Abschneiden\n",
        "\n",
        "In unserem Fall wird der obere Bereich des Bildes vermutlich keine für das Fahren relevante Daten enthalten. Im Gegenteil, es ist gut möglich, dass sich dort etwas blaues befindet (Blaues Verkehrsschild, Himmel, Reflektionen in Fensterscheibe etc.) was unser Fahrmodell stört.\n",
        "\n",
        "Um das zu vermeiden, können wir den oberen Teil des Bildes wegschneiden, respektive auf Null setzten.\n",
        "\n"
      ],
      "metadata": {
        "id": "U0GbxdeFdkUh"
      },
      "id": "U0GbxdeFdkUh"
    },
    {
      "cell_type": "code",
      "source": [
        "def crop_callback(_):\n",
        "  global cropped\n",
        "  cropped = eroded.copy()\n",
        "  cropped[:w_crop.value, :] = 0\n",
        "  clear_output(wait=True)\n",
        "  display(w_crop)\n",
        "  show_image(cropped)\n",
        "\n",
        "# Kernel-Grösse wählen\n",
        "w_crop = widgets.IntSlider(\n",
        "    value=50,\n",
        "    min=0,\n",
        "    max=120,\n",
        "    step=1,\n",
        "    description='Kernel-Grösse:',\n",
        "    # disabled=False,\n",
        "    # continuous_update=False,\n",
        "    # orientation='horizontal',\n",
        "    # readout=True,\n",
        "    # readout_format='d'\n",
        ")\n",
        "\n",
        "\n",
        "w_crop.observe(crop_callback)\n",
        "\n",
        "crop_callback(_)"
      ],
      "metadata": {
        "colab": {
          "base_uri": "https://localhost:8080/",
          "height": 466,
          "referenced_widgets": [
            "d4820dd286164ce2976e6a5caa2a20d7",
            "1b4796ff32974e90a8e4d5074023a191",
            "60290b4544ed4d71bcddae7af2874e69"
          ]
        },
        "id": "MMiZEy7Tpg0Y",
        "outputId": "ede92679-b75f-416c-f276-8a0dd1cba488"
      },
      "id": "MMiZEy7Tpg0Y",
      "execution_count": 93,
      "outputs": [
        {
          "output_type": "display_data",
          "data": {
            "text/plain": [
              "IntSlider(value=50, description='Kernel-Grösse:', max=120)"
            ],
            "application/vnd.jupyter.widget-view+json": {
              "version_major": 2,
              "version_minor": 0,
              "model_id": "d4820dd286164ce2976e6a5caa2a20d7"
            }
          },
          "metadata": {}
        },
        {
          "output_type": "display_data",
          "data": {
            "text/plain": [
              "<Figure size 640x480 with 1 Axes>"
            ],
            "image/png": "[encoded data removed]"
          },
          "metadata": {}
        }
      ]
    },
    {
      "cell_type": "markdown",
      "source": [
        "hast du optimale Werte gefunden? Dann kannst du diese Werte fürs Training und fürs Fahren verwenden"
      ],
      "metadata": {
        "id": "sXBNNxQzfOJg"
      },
      "id": "sXBNNxQzfOJg"
    }
  ],
  "metadata": {
    "colab": {
      "provenance": []
    },
    "kernelspec": {
      "display_name": "Python 3",
      "name": "python3"
    },
    "language_info": {
      "codemirror_mode": {
        "name": "ipython",
        "version": 3
      },
      "file_extension": ".py",
      "mimetype": "text/x-python",
      "name": "python",
      "nbconvert_exporter": "python",
      "pygments_lexer": "ipython3",
      "version": "3.10.6"
    },
    "widgets": {
      "application/vnd.jupyter.widget-state+json": {
        "91071f85dcf14a9d966c5aff9f430c4b": {
          "model_module": "@jupyter-widgets/controls",
          "model_name": "ColorPickerModel",
          "model_module_version": "1.5.0",
          "state": {
            "_dom_classes": [],
            "_model_module": "@jupyter-widgets/controls",
            "_model_module_version": "1.5.0",
            "_model_name": "ColorPickerModel",
            "_view_count": null,
            "_view_module": "@jupyter-widgets/controls",
            "_view_module_version": "1.5.0",
            "_view_name": "ColorPickerView",
            "concise": false,
            "description": "Lower",
            "description_tooltip": null,
            "disabled": false,
            "layout": "IPY_MODEL_b8dc924ee1b14a6890d8feb261b45c6d",
            "style": "IPY_MODEL_891e72218d5741eeb524a365f3f9d02a",
            "value": "#004B73"
          }
        },
        "b8dc924ee1b14a6890d8feb261b45c6d": {
          "model_module": "@jupyter-widgets/base",
          "model_name": "LayoutModel",
          "model_module_version": "1.2.0",
          "state": {
            "_model_module": "@jupyter-widgets/base",
            "_model_module_version": "1.2.0",
            "_model_name": "LayoutModel",
            "_view_count": null,
            "_view_module": "@jupyter-widgets/base",
            "_view_module_version": "1.2.0",
            "_view_name": "LayoutView",
            "align_content": null,
            "align_items": null,
            "align_self": null,
            "border": null,
            "bottom": null,
            "display": null,
            "flex": null,
            "flex_flow": null,
            "grid_area": null,
            "grid_auto_columns": null,
            "grid_auto_flow": null,
            "grid_auto_rows": null,
            "grid_column": null,
            "grid_gap": null,
            "grid_row": null,
            "grid_template_areas": null,
            "grid_template_columns": null,
            "grid_template_rows": null,
            "height": null,
            "justify_content": null,
            "justify_items": null,
            "left": null,
            "margin": null,
            "max_height": null,
            "max_width": null,
            "min_height": null,
            "min_width": null,
            "object_fit": null,
            "object_position": null,
            "order": null,
            "overflow": null,
            "overflow_x": null,
            "overflow_y": null,
            "padding": null,
            "right": null,
            "top": null,
            "visibility": null,
            "width": null
          }
        },
        "891e72218d5741eeb524a365f3f9d02a": {
          "model_module": "@jupyter-widgets/controls",
          "model_name": "DescriptionStyleModel",
          "model_module_version": "1.5.0",
          "state": {
            "_model_module": "@jupyter-widgets/controls",
            "_model_module_version": "1.5.0",
            "_model_name": "DescriptionStyleModel",
            "_view_count": null,
            "_view_module": "@jupyter-widgets/base",
            "_view_module_version": "1.2.0",
            "_view_name": "StyleView",
            "description_width": ""
          }
        },
        "d0d4117255eb4c829c4bfd5eb61dcf89": {
          "model_module": "@jupyter-widgets/controls",
          "model_name": "ColorPickerModel",
          "model_module_version": "1.5.0",
          "state": {
            "_dom_classes": [],
            "_model_module": "@jupyter-widgets/controls",
            "_model_module_version": "1.5.0",
            "_model_name": "ColorPickerModel",
            "_view_count": null,
            "_view_module": "@jupyter-widgets/controls",
            "_view_module_version": "1.5.0",
            "_view_name": "ColorPickerView",
            "concise": false,
            "description": "Upper",
            "description_tooltip": null,
            "disabled": false,
            "layout": "IPY_MODEL_a780e92c485f49fea825cebc777a527e",
            "style": "IPY_MODEL_aaaec2563cd44df3b0f566a8128c2950",
            "value": "#73CDFF"
          }
        },
        "a780e92c485f49fea825cebc777a527e": {
          "model_module": "@jupyter-widgets/base",
          "model_name": "LayoutModel",
          "model_module_version": "1.2.0",
          "state": {
            "_model_module": "@jupyter-widgets/base",
            "_model_module_version": "1.2.0",
            "_model_name": "LayoutModel",
            "_view_count": null,
            "_view_module": "@jupyter-widgets/base",
            "_view_module_version": "1.2.0",
            "_view_name": "LayoutView",
            "align_content": null,
            "align_items": null,
            "align_self": null,
            "border": null,
            "bottom": null,
            "display": null,
            "flex": null,
            "flex_flow": null,
            "grid_area": null,
            "grid_auto_columns": null,
            "grid_auto_flow": null,
            "grid_auto_rows": null,
            "grid_column": null,
            "grid_gap": null,
            "grid_row": null,
            "grid_template_areas": null,
            "grid_template_columns": null,
            "grid_template_rows": null,
            "height": null,
            "justify_content": null,
            "justify_items": null,
            "left": null,
            "margin": null,
            "max_height": null,
            "max_width": null,
            "min_height": null,
            "min_width": null,
            "object_fit": null,
            "object_position": null,
            "order": null,
            "overflow": null,
            "overflow_x": null,
            "overflow_y": null,
            "padding": null,
            "right": null,
            "top": null,
            "visibility": null,
            "width": null
          }
        },
        "aaaec2563cd44df3b0f566a8128c2950": {
          "model_module": "@jupyter-widgets/controls",
          "model_name": "DescriptionStyleModel",
          "model_module_version": "1.5.0",
          "state": {
            "_model_module": "@jupyter-widgets/controls",
            "_model_module_version": "1.5.0",
            "_model_name": "DescriptionStyleModel",
            "_view_count": null,
            "_view_module": "@jupyter-widgets/base",
            "_view_module_version": "1.2.0",
            "_view_name": "StyleView",
            "description_width": ""
          }
        },
        "d0f38727dfe84d86b50fa09fb18ec84b": {
          "model_module": "@jupyter-widgets/controls",
          "model_name": "IntSliderModel",
          "model_module_version": "1.5.0",
          "state": {
            "_dom_classes": [],
            "_model_module": "@jupyter-widgets/controls",
            "_model_module_version": "1.5.0",
            "_model_name": "IntSliderModel",
            "_view_count": null,
            "_view_module": "@jupyter-widgets/controls",
            "_view_module_version": "1.5.0",
            "_view_name": "IntSliderView",
            "continuous_update": true,
            "description": "Kernel-Grösse:",
            "description_tooltip": null,
            "disabled": false,
            "layout": "IPY_MODEL_2eb45088ee0a49568f254188270ddfec",
            "max": 10,
            "min": 1,
            "orientation": "horizontal",
            "readout": true,
            "readout_format": "d",
            "step": 1,
            "style": "IPY_MODEL_5023e722110b4b188b9be2abbb4d08d7",
            "value": 2
          }
        },
        "2eb45088ee0a49568f254188270ddfec": {
          "model_module": "@jupyter-widgets/base",
          "model_name": "LayoutModel",
          "model_module_version": "1.2.0",
          "state": {
            "_model_module": "@jupyter-widgets/base",
            "_model_module_version": "1.2.0",
            "_model_name": "LayoutModel",
            "_view_count": null,
            "_view_module": "@jupyter-widgets/base",
            "_view_module_version": "1.2.0",
            "_view_name": "LayoutView",
            "align_content": null,
            "align_items": null,
            "align_self": null,
            "border": null,
            "bottom": null,
            "display": null,
            "flex": null,
            "flex_flow": null,
            "grid_area": null,
            "grid_auto_columns": null,
            "grid_auto_flow": null,
            "grid_auto_rows": null,
            "grid_column": null,
            "grid_gap": null,
            "grid_row": null,
            "grid_template_areas": null,
            "grid_template_columns": null,
            "grid_template_rows": null,
            "height": null,
            "justify_content": null,
            "justify_items": null,
            "left": null,
            "margin": null,
            "max_height": null,
            "max_width": null,
            "min_height": null,
            "min_width": null,
            "object_fit": null,
            "object_position": null,
            "order": null,
            "overflow": null,
            "overflow_x": null,
            "overflow_y": null,
            "padding": null,
            "right": null,
            "top": null,
            "visibility": null,
            "width": null
          }
        },
        "5023e722110b4b188b9be2abbb4d08d7": {
          "model_module": "@jupyter-widgets/controls",
          "model_name": "SliderStyleModel",
          "model_module_version": "1.5.0",
          "state": {
            "_model_module": "@jupyter-widgets/controls",
            "_model_module_version": "1.5.0",
            "_model_name": "SliderStyleModel",
            "_view_count": null,
            "_view_module": "@jupyter-widgets/base",
            "_view_module_version": "1.2.0",
            "_view_name": "StyleView",
            "description_width": "",
            "handle_color": null
          }
        },
        "d4820dd286164ce2976e6a5caa2a20d7": {
          "model_module": "@jupyter-widgets/controls",
          "model_name": "IntSliderModel",
          "model_module_version": "1.5.0",
          "state": {
            "_dom_classes": [],
            "_model_module": "@jupyter-widgets/controls",
            "_model_module_version": "1.5.0",
            "_model_name": "IntSliderModel",
            "_view_count": null,
            "_view_module": "@jupyter-widgets/controls",
            "_view_module_version": "1.5.0",
            "_view_name": "IntSliderView",
            "continuous_update": true,
            "description": "Kernel-Grösse:",
            "description_tooltip": null,
            "disabled": false,
            "layout": "IPY_MODEL_1b4796ff32974e90a8e4d5074023a191",
            "max": 120,
            "min": 0,
            "orientation": "horizontal",
            "readout": true,
            "readout_format": "d",
            "step": 1,
            "style": "IPY_MODEL_60290b4544ed4d71bcddae7af2874e69",
            "value": 50
          }
        },
        "1b4796ff32974e90a8e4d5074023a191": {
          "model_module": "@jupyter-widgets/base",
          "model_name": "LayoutModel",
          "model_module_version": "1.2.0",
          "state": {
            "_model_module": "@jupyter-widgets/base",
            "_model_module_version": "1.2.0",
            "_model_name": "LayoutModel",
            "_view_count": null,
            "_view_module": "@jupyter-widgets/base",
            "_view_module_version": "1.2.0",
            "_view_name": "LayoutView",
            "align_content": null,
            "align_items": null,
            "align_self": null,
            "border": null,
            "bottom": null,
            "display": null,
            "flex": null,
            "flex_flow": null,
            "grid_area": null,
            "grid_auto_columns": null,
            "grid_auto_flow": null,
            "grid_auto_rows": null,
            "grid_column": null,
            "grid_gap": null,
            "grid_row": null,
            "grid_template_areas": null,
            "grid_template_columns": null,
            "grid_template_rows": null,
            "height": null,
            "justify_content": null,
            "justify_items": null,
            "left": null,
            "margin": null,
            "max_height": null,
            "max_width": null,
            "min_height": null,
            "min_width": null,
            "object_fit": null,
            "object_position": null,
            "order": null,
            "overflow": null,
            "overflow_x": null,
            "overflow_y": null,
            "padding": null,
            "right": null,
            "top": null,
            "visibility": null,
            "width": null
          }
        },
        "60290b4544ed4d71bcddae7af2874e69": {
          "model_module": "@jupyter-widgets/controls",
          "model_name": "SliderStyleModel",
          "model_module_version": "1.5.0",
          "state": {
            "_model_module": "@jupyter-widgets/controls",
            "_model_module_version": "1.5.0",
            "_model_name": "SliderStyleModel",
            "_view_count": null,
            "_view_module": "@jupyter-widgets/base",
            "_view_module_version": "1.2.0",
            "_view_name": "StyleView",
            "description_width": "",
            "handle_color": null
          }
        }
      }
    }
  },
  "nbformat": 4,
  "nbformat_minor": 5
}